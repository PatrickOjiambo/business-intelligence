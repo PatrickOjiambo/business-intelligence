{
 "cells": [
  {
   "cell_type": "code",
   "execution_count": null,
   "metadata": {},
   "outputs": [],
   "source": [
    "import pandas as pd\n",
    "df = pd.read_csv(\"super.csv\")\n",
    "print(df)"
   ]
  },
  {
   "cell_type": "code",
   "execution_count": 2,
   "metadata": {},
   "outputs": [
    {
     "name": "stdout",
     "output_type": "stream",
     "text": [
      "0      A\n",
      "1      C\n",
      "2      A\n",
      "3      A\n",
      "4      A\n",
      "      ..\n",
      "995    C\n",
      "996    B\n",
      "997    A\n",
      "998    A\n",
      "999    A\n",
      "Name: Branch, Length: 1000, dtype: object\n"
     ]
    }
   ],
   "source": [
    "#Branch dataframe\n",
    "branch_df = df[\"Branch\"]\n",
    "print(branch_df)"
   ]
  }
 ],
 "metadata": {
  "kernelspec": {
   "display_name": "venv",
   "language": "python",
   "name": "python3"
  },
  "language_info": {
   "codemirror_mode": {
    "name": "ipython",
    "version": 3
   },
   "file_extension": ".py",
   "mimetype": "text/x-python",
   "name": "python",
   "nbconvert_exporter": "python",
   "pygments_lexer": "ipython3",
   "version": "3.10.12"
  }
 },
 "nbformat": 4,
 "nbformat_minor": 2
}
