{
 "cells": [
  {
   "cell_type": "code",
   "execution_count": null,
   "metadata": {},
   "outputs": [],
   "source": [
    "import pandas as pd\n",
    "df = pd.read_csv(\"super.csv\")\n",
    "print(df)"
   ]
  },
  {
   "cell_type": "code",
   "execution_count": null,
   "metadata": {},
   "outputs": [],
   "source": [
    "#Branch dataframe\n",
    "branch_df = df[\"Branch\"]\n",
    "print(branch_df)"
   ]
  },
  {
   "cell_type": "code",
   "execution_count": null,
   "metadata": {},
   "outputs": [],
   "source": [
    "#product dataframe\n",
    "product_df = df[[\"Product line\", \"Unit price\"]]\n",
    "print(product_df)"
   ]
  },
  {
   "cell_type": "code",
   "execution_count": 13,
   "metadata": {},
   "outputs": [
    {
     "name": "stdout",
     "output_type": "stream",
     "text": [
      "0         Yangon\n",
      "1      Naypyitaw\n",
      "2         Yangon\n",
      "3         Yangon\n",
      "4         Yangon\n",
      "         ...    \n",
      "995    Naypyitaw\n",
      "996     Mandalay\n",
      "997       Yangon\n",
      "998       Yangon\n",
      "999       Yangon\n",
      "Name: City, Length: 1000, dtype: object\n"
     ]
    }
   ],
   "source": [
    "#city dataframe\n",
    "city_df = df[\"City\"]\n",
    "print(city_df)"
   ]
  }
 ],
 "metadata": {
  "kernelspec": {
   "display_name": "venv",
   "language": "python",
   "name": "python3"
  },
  "language_info": {
   "codemirror_mode": {
    "name": "ipython",
    "version": 3
   },
   "file_extension": ".py",
   "mimetype": "text/x-python",
   "name": "python",
   "nbconvert_exporter": "python",
   "pygments_lexer": "ipython3",
   "version": "3.10.12"
  }
 },
 "nbformat": 4,
 "nbformat_minor": 2
}
