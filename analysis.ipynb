{
 "cells": [
  {
   "cell_type": "code",
   "execution_count": 18,
   "metadata": {},
   "outputs": [
    {
     "name": "stdout",
     "output_type": "stream",
     "text": [
      "           Retailer\n",
      "0       Foot Locker\n",
      "46          Walmart\n",
      "68    Sports Direct\n",
      "140       West Gear\n",
      "212          Kohl's\n",
      "1148         Amazon\n"
     ]
    }
   ],
   "source": [
    "import pandas as pd\n",
    "df = pd.read_excel(\"adidas.xlsx\", sheet_name=\"Data Sales Adidas\", parse_dates=['Invoice Date'])\n",
    "retailers_df = df[['Retailer']].drop_duplicates(subset=['Retailer'])\n",
    "print(retailers_df)"
   ]
  },
  {
   "cell_type": "code",
   "execution_count": null,
   "metadata": {},
   "outputs": [],
   "source": [
    "products_df = df[['Product', 'Price per Unit',]].drop_duplicates(subset=['Product'])\n",
    "print(products_df)"
   ]
  },
  {
   "cell_type": "code",
   "execution_count": null,
   "metadata": {},
   "outputs": [],
   "source": [
    "#Regions dataframe\n",
    "regions_df = df[['Region']].drop_duplicates(subset=['Region'])\n",
    "print(regions_df)"
   ]
  },
  {
   "cell_type": "code",
   "execution_count": null,
   "metadata": {},
   "outputs": [],
   "source": [
    "#states dataframe\n",
    "states_df = df[['State', 'Region']].drop_duplicates(subset=['State'])\n",
    "print(states_df)"
   ]
  },
  {
   "cell_type": "code",
   "execution_count": null,
   "metadata": {},
   "outputs": [],
   "source": [
    "#cities daatframe\n",
    "cities_df = df[['City', 'State']].drop_duplicates(subset=['City'])\n",
    "print(cities_df)"
   ]
  },
  {
   "cell_type": "code",
   "execution_count": 27,
   "metadata": {},
   "outputs": [
    {
     "name": "stdout",
     "output_type": "stream",
     "text": [
      "2020-01-02 00:00:00\n",
      "             Invoice Date       Retailer                    Product  \\\n",
      "0     2020-01-01 00:00:00    Foot Locker      Men's Street Footwear   \n",
      "1     2020-01-02 00:00:00    Foot Locker    Men's Athletic Footwear   \n",
      "2     2020-01-03 00:00:00    Foot Locker    Women's Street Footwear   \n",
      "3     2020-01-04 00:00:00    Foot Locker  Women's Athletic Footwear   \n",
      "4     2020-01-05 00:00:00    Foot Locker              Men's Apparel   \n",
      "...                   ...            ...                        ...   \n",
      "8279                43908      West Gear  Women's Athletic Footwear   \n",
      "8294                44283  Sports Direct      Men's Street Footwear   \n",
      "8299  2021-04-02 00:00:00  Sports Direct            Women's Apparel   \n",
      "8378                44439  Sports Direct      Men's Street Footwear   \n",
      "8406                44467  Sports Direct              Men's Apparel   \n",
      "\n",
      "                      Units Sold                 Total Sales  \\\n",
      "0                           1200                      600000   \n",
      "1                           1000                      500000   \n",
      "2                           1000                      400000   \n",
      "3                            850                      382500   \n",
      "4     1970-01-01 03:00:00.900000                      540000   \n",
      "...                          ...                         ...   \n",
      "8279                          96  1970-01-01 03:00:02.496000   \n",
      "8294                         203                        2639   \n",
      "8299                         196                        3528   \n",
      "8378                         225                        6750   \n",
      "8406                         105                        2310   \n",
      "\n",
      "                Operating Profit Operating Margin Sales Method  \n",
      "0                         300000              0.5     In-store  \n",
      "1                         150000              0.3     In-store  \n",
      "2                         140000             0.35     In-store  \n",
      "3                         133875             0.35     In-store  \n",
      "4                         162000              0.3     In-store  \n",
      "...                          ...              ...          ...  \n",
      "8279                      848.64             0.34       Outlet  \n",
      "8294  1970-01-01 03:00:01.187000             0.45       Outlet  \n",
      "8299                     2152.08             0.61       Outlet  \n",
      "8378  1970-01-01 03:00:03.240000             0.48       Outlet  \n",
      "8406  1970-01-01 03:00:01.131000             0.49       Outlet  \n",
      "\n",
      "[1361 rows x 8 columns]\n"
     ]
    }
   ],
   "source": [
    "from datetime import datetime, timedelta\n",
    "invoice_df = df[['Invoice Date', 'Retailer', 'Product', 'Units Sold', 'Total Sales', 'Operating Profit', 'Operating Margin', 'Sales Method' ]].drop_duplicates(subset=['Invoice Date'])\n",
    "start_date = datetime.strptime('2020-01-01', '%Y-%m-%d')\n",
    "print(start_date + timedelta(days=1))\n",
    "print(invoice_df)\n"
   ]
  },
  {
   "cell_type": "code",
   "execution_count": 23,
   "metadata": {},
   "outputs": [
    {
     "name": "stdout",
     "output_type": "stream",
     "text": [
      "             Invoice Date\n",
      "0     2020-01-01 00:00:00\n",
      "1     2020-01-02 00:00:00\n",
      "2     2020-01-03 00:00:00\n",
      "3     2020-01-04 00:00:00\n",
      "4     2020-01-05 00:00:00\n",
      "...                   ...\n",
      "8279                43908\n",
      "8294                44283\n",
      "8299  2021-04-02 00:00:00\n",
      "8378                44439\n",
      "8406                44467\n",
      "\n",
      "[1361 rows x 1 columns]\n"
     ]
    }
   ],
   "source": [
    "import pandas as pd\n",
    "\n",
    "invoice = df[['Invoice Date']].drop_duplicates(subset=['Invoice Date'])\n",
    "\n",
    "print(invoice)\n"
   ]
  }
 ],
 "metadata": {
  "kernelspec": {
   "display_name": "venv",
   "language": "python",
   "name": "python3"
  },
  "language_info": {
   "codemirror_mode": {
    "name": "ipython",
    "version": 3
   },
   "file_extension": ".py",
   "mimetype": "text/x-python",
   "name": "python",
   "nbconvert_exporter": "python",
   "pygments_lexer": "ipython3",
   "version": "3.10.12"
  }
 },
 "nbformat": 4,
 "nbformat_minor": 2
}
