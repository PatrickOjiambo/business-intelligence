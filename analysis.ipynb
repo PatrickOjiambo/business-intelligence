{
 "cells": [
  {
   "cell_type": "code",
   "execution_count": null,
   "metadata": {},
   "outputs": [],
   "source": [
    "import pandas as pd\n",
    "df = pd.read_excel(\"adidas.xlsx\", sheet_name=\"Data Sales Adidas\")\n",
    "retailers_df = df[['Retailer']].drop_duplicates(subset=['Retailer'])\n",
    "print(retailers_df)"
   ]
  },
  {
   "cell_type": "code",
   "execution_count": null,
   "metadata": {},
   "outputs": [],
   "source": [
    "products_df = df[['Product', 'Price per Unit',]].drop_duplicates(subset=['Product'])\n",
    "print(products_df)"
   ]
  },
  {
   "cell_type": "code",
   "execution_count": null,
   "metadata": {},
   "outputs": [],
   "source": [
    "#Regions dataframe\n",
    "regions_df = df[['Region']].drop_duplicates(subset=['Region'])\n",
    "print(regions_df)"
   ]
  },
  {
   "cell_type": "code",
   "execution_count": null,
   "metadata": {},
   "outputs": [],
   "source": [
    "#states dataframe\n",
    "states_df = df[['State', 'Region']].drop_duplicates(subset=['State'])\n",
    "print(states_df)"
   ]
  }
 ],
 "metadata": {
  "kernelspec": {
   "display_name": "venv",
   "language": "python",
   "name": "python3"
  },
  "language_info": {
   "codemirror_mode": {
    "name": "ipython",
    "version": 3
   },
   "file_extension": ".py",
   "mimetype": "text/x-python",
   "name": "python",
   "nbconvert_exporter": "python",
   "pygments_lexer": "ipython3",
   "version": "3.10.12"
  }
 },
 "nbformat": 4,
 "nbformat_minor": 2
}
